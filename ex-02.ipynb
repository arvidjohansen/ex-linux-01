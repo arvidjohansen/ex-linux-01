{
 "cells": [
  {
   "cell_type": "markdown",
   "id": "93964a13",
   "metadata": {},
   "source": [
    "# ex-linux-01\n",
    "\n",
    "## Manuell oppdatering\n",
    "\n",
    "```shell\n",
    "apt update\n",
    "apt dist-upgrade\n",
    "```\n",
    "\n",
    "## Hvordan slå på automatiske oppdateringer\n",
    "\n",
    "```shell\n",
    "apt install unattended-upgrades\n",
    "dpkg-reconfigure --priority=low unattended-upgrades\n",
    "```\n",
    "\n",
    "\n"
   ]
  },
  {
   "cell_type": "markdown",
   "id": "57ec7d87",
   "metadata": {},
   "source": [
    "--------"
   ]
  },
  {
   "cell_type": "markdown",
   "id": "c0b609a9-d2ac-49ed-8bda-44633a0d08e8",
   "metadata": {},
   "source": [
    "## Legg til ny bruker\n",
    "\n",
    "```shell\n",
    "adduser {username}\n",
    "```\n",
    "\n",
    "## Gjøre bruker til admin (root)\n",
    "\n",
    "```shell\n",
    "usermod -aG sudo {username}\n",
    "```\n",
    "Merk at parametrene i kommandoene (-a og -G i dette tilfellet) ofte har en logisk betydning\n",
    ">-a `add`\n",
    ">-G `group`\n",
    "\n",
    "Vi ønsker altså å modifisere (endre) en bruker med argumentene \"add\" og \"group\". \n",
    "\n",
    "Slike mønstre går igjen hele tiden"
   ]
  },
  {
   "cell_type": "markdown",
   "id": "4be2c41d",
   "metadata": {},
   "source": [
    "-------"
   ]
  },
  {
   "attachments": {},
   "cell_type": "markdown",
   "id": "c9fd913d",
   "metadata": {},
   "source": [
    "## Brukere, grupper og rettigheter\n",
    "\n",
    "Hvis du har fulgt "
   ]
  },
  {
   "attachments": {},
   "cell_type": "markdown",
   "id": "0ebcb7ca",
   "metadata": {},
   "source": [
    "## Installere programvare\n",
    "\n",
    "For å installere programvare på Debian-baserte system kan vi bruke kommandoen ´apt`, som står for \"aptitude\"\n",
    "\n",
    "```shell\n",
    "apt install <program-navn>\n",
    "```\n",
    "\n",
    "Siden vi akkurat har installert operativsystemet, er det et par ting vi kommer til å trenge uansett, så la oss sette i gang\n",
    "\n",
    " først begynne med å installere `sudo`\n",
    "\n",
    "```shell\n",
    "apt install sudo\n",
    "```\n",
    "\n"
   ]
  },
  {
   "cell_type": "markdown",
   "id": "ff8f00b8",
   "metadata": {},
   "source": []
  },
  {
   "cell_type": "markdown",
   "id": "2eca555c",
   "metadata": {},
   "source": [
    "------\n"
   ]
  }
 ],
 "metadata": {
  "kernelspec": {
   "display_name": "Python 3 (ipykernel)",
   "language": "python",
   "name": "python3"
  },
  "language_info": {
   "codemirror_mode": {
    "name": "ipython",
    "version": 3
   },
   "file_extension": ".py",
   "mimetype": "text/x-python",
   "name": "python",
   "nbconvert_exporter": "python",
   "pygments_lexer": "ipython3",
   "version": "3.9.2"
  },
  "vscode": {
   "interpreter": {
    "hash": "996f2b6e98019c29df53ccff772a8e3fe7cdecb0ba4b3f6ddb9be804d297dd3d"
   }
  }
 },
 "nbformat": 4,
 "nbformat_minor": 5
}
