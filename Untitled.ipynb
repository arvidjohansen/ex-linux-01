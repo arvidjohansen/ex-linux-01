{
 "cells": [
  {
   "cell_type": "markdown",
   "id": "0a1d3559-6e6d-4b44-93cd-e2654c36e0d6",
   "metadata": {
    "tags": []
   },
   "source": [
    "# ex-linux-01\n",
    "\n",
    "## Manuell oppdatering\n",
    "\n",
    "```sh\n",
    "apt update\n",
    "apt dist-upgrade\n",
    "```\n",
    "\n",
    "## Hvordan slå på automatiske oppdateringer\n",
    "\n",
    "```sh\n",
    "apt install unattended-upgrades\n",
    "dpkg-reconfigure --priority=low unattended-upgrades\n",
    "```\n",
    "\n",
    "\n"
   ]
  },
  {
   "cell_type": "markdown",
   "id": "c0b609a9-d2ac-49ed-8bda-44633a0d08e8",
   "metadata": {},
   "source": [
    "## Legge til ny bruker\n",
    "\n",
    "```sh\n",
    "adduser {username}\n",
    "```\n",
    "\n",
    "## Gjøre bruker til admin (root)\n",
    "\n",
    "```sh\n",
    "usermod -aG sudo {username}\n",
    "```\n",
    "Merk at parametrene i kommandoene (-a og -G i dette tilfellet) ofte har en logisk betydning\n",
    ">-a `add`\n",
    ">-G `group`\n",
    "\n",
    "Vi ønsker altså å modifisere (endre) en bruker med argumentene \"add\" og \"group\". \n",
    "\n",
    "Slike mønstre går igjen hele tiden"
   ]
  },
  {
   "cell_type": "markdown",
   "id": "d3638f01-fb6f-4e5a-be4e-f36407d0dade",
   "metadata": {},
   "source": [
    "# 25 mest brukte kommandoer\n",
    "1.  `ls` - List the contents of a directory\n",
    "2.  `cd` - Change the current working directory\n",
    "3.  `pwd` - Print the current working directory\n",
    "4.  `mkdir` - Create a new directory\n",
    "5.  `rmdir` - Remove a directory\n",
    "6.  `touch` - Create a new empty file\n",
    "7.  `cp` - Copy files or directories\n",
    "8.  `mv` - Move or rename files or directories\n",
    "9.  `rm` - Remove files or directories\n",
    "10. `cat` - Concatenate files and display on the screen\n",
    "11. `less` - Display the contents of a file one page at a time\n",
    "12. `head` - Display the first few lines of a file\n",
    "13. `tail` - Display the last few lines of a file\n",
    "14. `grep` - Search for patterns in files\n",
    "15. `find` - Search for files that match specified criteria\n",
    "16. `wc` - Count the number of lines, words, and characters in a file\n",
    "17. `sort` - Sort the contents of a file\n",
    "18. `uniq` - Remove or identify repeated lines in a file\n",
    "19. `diff` - Compare two files and show the differences\n",
    "20. `chmod` - Change file or directory permissions\n",
    "21. `chown` - Change the owner of a file or directory\n",
    "22. `sudo` - Run a command with superuser privileges\n",
    "23. `su` - Switch to the superuser account\n",
    "24. `ps` - Display information about the currently running processes\n",
    "25. `kill` - Terminate a process by PID"
   ]
  },
  {
   "cell_type": "markdown",
   "id": "e7fcc579-995e-4984-9ed3-760f9eb73ead",
   "metadata": {},
   "source": [
    "# 25 til viktige  kommandoer\n",
    "\n",
    "1.  `top` - Display real-time information about system performance and running processes\n",
    "2.  `free` - Display information about memory usage\n",
    "3.  `df` - Display information about disk space usage\n",
    "4.  `du` - Estimate the disk space used by a file or directory\n",
    "5.  `ping` - Test the reachability of a network host\n",
    "6.  `traceroute` - Display the route taken by packets to a network host\n",
    "7.  `netstat` - Display information about network connections\n",
    "8.  `ifconfig` - Display information about network interfaces\n",
    "9.  `iptables` - Configure the Linux firewall\n",
    "10. `route` - Display and modify the routing table\n",
    "11. `ip` - Display and manipulate IP address and routing information\n",
    "12. `ssh` - Securely log into a remote machine\n",
    "13. `scp` - Securely copy files between machines\n",
    "14. `ftp` - Transfer files between machines using the FTP protocol\n",
    "15. `sftp` - Transfer files between machines securely using the SFTP protocol\n",
    "16. `rsync` - Synchronize files and directories between machines\n",
    "17. `tar` - Create and extract compressed archive files\n",
    "18. `gzip` - Compress or decompress files\n",
    "19. `bzip2` - Compress or decompress files using the bzip2 algorithm\n",
    "20. `zip` - Compress or decompress files using the ZIP format\n",
    "21. `unzip` - Extract files from ZIP archive files\n",
    "22. `cron` - Schedule tasks to run automatically\n",
    "23. `at` - Schedule one-time tasks to run in the future\n",
    "24. `systemd` - Control system services and manage system startup\n",
    "25. `journalctl` - View and manage system logs managed by systemd."
   ]
  }
 ],
 "metadata": {
  "kernelspec": {
   "display_name": "Python 3 (ipykernel)",
   "language": "python",
   "name": "python3"
  },
  "language_info": {
   "codemirror_mode": {
    "name": "ipython",
    "version": 3
   },
   "file_extension": ".py",
   "mimetype": "text/x-python",
   "name": "python",
   "nbconvert_exporter": "python",
   "pygments_lexer": "ipython3",
   "version": "3.9.2"
  }
 },
 "nbformat": 4,
 "nbformat_minor": 5
}
